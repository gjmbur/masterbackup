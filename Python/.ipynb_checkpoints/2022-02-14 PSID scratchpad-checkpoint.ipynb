{
 "cells": [
  {
   "cell_type": "code",
   "execution_count": 8,
   "id": "32d5fc30",
   "metadata": {},
   "outputs": [
    {
     "name": "stdout",
     "output_type": "stream",
     "text": [
      "3.9.13\n"
     ]
    }
   ],
   "source": [
    "import numpy as np\n",
    "import scipy as scipy\n",
    "import pandas as pd\n",
    "import bs4 as bs4\n",
    "from bs4 import BeautifulSoup\n",
    "import matplotlib.pyplot as plt\n",
    "%matplotlib inline \n",
    "import seaborn as sns\n",
    "import datetime as datetime\n",
    "from isoweek import Week\n",
    "import ipywidgets as widgets\n",
    "\n",
    "# I also like having all results from a cell up\n",
    "from IPython.core.interactiveshell import InteractiveShell\n",
    "InteractiveShell.ast_node_interactivity = \"all\"\n",
    "\n",
    "from platform import python_version\n",
    "print(python_version())"
   ]
  },
  {
   "cell_type": "code",
   "execution_count": 9,
   "id": "b7813fc2",
   "metadata": {},
   "outputs": [],
   "source": [
    "# Some imports that come from here: \n",
    "# https://github.com/tyler-abbot/PyShop/blob/master/session4/PyShop_session4_notes.ipynb\n",
    "import zipfile\n",
    "import tempfile\n",
    "import os\n",
    "import requests\n",
    "import shutil\n",
    "import getpass\n",
    "from psid_py import read_sas\n",
    "from io import BytesIO\n",
    "import statsmodels.api as sm\n",
    "from scipy import stats"
   ]
  },
  {
   "cell_type": "code",
   "execution_count": 10,
   "id": "b2fecab2",
   "metadata": {},
   "outputs": [],
   "source": [
    "plt.rcParams['figure.dpi'] = 300\n",
    "plt.rcParams['savefig.dpi'] = 300\n",
    "plt.close('all')"
   ]
  },
  {
   "cell_type": "code",
   "execution_count": 12,
   "id": "c1a87a18",
   "metadata": {},
   "outputs": [],
   "source": [
    "USERNAME = \"gjmbur@gmail.com\"\n",
    "PASSWORD = \"H3g3lin\"\n",
    "\n",
    "# Create a requests session object, which will do all the HTTP for you\n",
    "c = requests.Session()\n",
    "\n",
    "#Define the URL of the login page\n",
    "URL = 'http://simba.isr.umich.edu/u/login.aspx'\n",
    "\n",
    "#Call the login page to \"get\" its raw HTML data\n",
    "page = c.get(URL)"
   ]
  },
  {
   "cell_type": "markdown",
   "id": "dc46e5e7",
   "metadata": {},
   "source": [
    "From Tyler Abbot:\n",
    "\n",
    "At this point, page is a requests object which contains the page data. We can retrieve this html file using the content method, then scrape out the form variables we need. But what variables DO we need?\n",
    "\n",
    "    Navigate to the PSID login page, right-click on the login window, and click \"Inspect Element\". This will open a side bar showing the html and some other stuff.\n",
    "\n",
    "    At the top, there will be several tabs; select the 'Network' tab.\n",
    "\n",
    "    Now, click the 'Clear' button, right next to the red dot at the top.\n",
    "\n",
    "    Now login. At this point you'll see a bunch of things show up in the table.\n",
    "\n",
    "    Find anything related to login. For the PSID website this is 'Login.aspx'. Click this and select the 'Headers' tab on the lower part of the side bar.\n",
    "\n",
    "    Now scroll down to the 'Form Data' section.\n",
    "\n",
    "All of the variables listed here will be submitted to the form. We are going to need to scrape the html for the values and submit them with our login information.\n",
    "\n",
    "Here's how we'll scrape the page using Beautiful Soup:\n"
   ]
  },
  {
   "cell_type": "code",
   "execution_count": 14,
   "id": "526623b4",
   "metadata": {},
   "outputs": [],
   "source": [
    "soup = BeautifulSoup(page.content)\n",
    "viewstate = soup.findAll(\"input\", {\"type\": \"hidden\",\n",
    "                         \"name\": \"__VIEWSTATE\"})\n",
    "radscript = soup.findAll(\"input\", {\"type\": \"hidden\",\n",
    "                         \"name\": \"RadScriptManager1_TSM\"})\n",
    "eventtarget = soup.findAll(\"input\", {\"type\": \"hidden\",\n",
    "                           \"name\": \"__EVENTTARGET\"})\n",
    "eventargument = soup.findAll(\"input\", {\"type\": \"hidden\",\n",
    "                             \"name\": \" __EVENTARGUMENT\"})\n",
    "viewstategenerator = soup.findAll(\"input\", {\"type\": \"hidden\",\n",
    "                                  \"name\": \"__VIEWSTATEGENERATOR\"})\n",
    "eventvalidation = soup.findAll(\"input\", {\"type\": \"hidden\",\n",
    "                               \"name\": \"__EVENTVALIDATION\"})\n",
    "radscript = soup.findAll(\"input\", {\"type\": \"hidden\", \"name\":\n",
    "                         \"RadScriptManager1_TSM\"})"
   ]
  },
  {
   "cell_type": "code",
   "execution_count": 16,
   "id": "bb2beb66",
   "metadata": {},
   "outputs": [
    {
     "data": {
      "text/plain": [
       "<Response [200]>"
      ]
     },
     "execution_count": 16,
     "metadata": {},
     "output_type": "execute_result"
    }
   ],
   "source": [
    "# Notice that Beautiful soup Returns the entire html object associated with each variable. \n",
    "# This makes life so much easier. So, now that you have your form variables, you want to pack \n",
    "# them into a dictionary to pass to your Requests object.\n",
    "\n",
    "#Gather form data into a single dictionary\n",
    "params = {'RadScriptManager1_TSM': radscript[0]['value'],\n",
    "          '__EVENTTARGET': '',\n",
    "          ' __EVENTARGUMENT': '',\n",
    "          '__VIEWSTATE': viewstate[0]['value'],\n",
    "          '__VIEWSTATEGENERATOR': viewstategenerator[0]['value'],\n",
    "          '__EVENTVALIDATION': eventvalidation[0]['value'],\n",
    "          'ctl00$ContentPlaceHolder1$Login1$UserName': USERNAME,\n",
    "          'ctl00$ContentPlaceHolder1$Login1$Password': PASSWORD,\n",
    "          'ctl00$ContentPlaceHolder1$Login1$LoginButton': 'Log In',\n",
    "          'ctl00_RadWindowManager1_ClientState': ''}\n",
    "\n",
    "#Post the login form.  NOTE: Response code 200 implies OK\n",
    "c.post('http://simba.isr.umich.edu/U/Login.aspx?redir=http%3a%2f%2fsimba.isr.umich.edu%2fU%2fLogout.aspx', data=params,\n",
    "       headers={\"Referer\": \"http://simba.isr.umich.edu/U/Login.aspx?redir=http://simba.isr.umich.edu/U/Logout.aspx\"},\n",
    "           allow_redirects=True)\n"
   ]
  },
  {
   "cell_type": "code",
   "execution_count": 17,
   "id": "71aef3f1",
   "metadata": {},
   "outputs": [],
   "source": [
    "#File names in the psid are numbered\n",
    "file = \"1056\"\n",
    "url = 'http://simba.isr.umich.edu/Zips/GetFile.aspx?file='\\\n",
    "    + file + '&mainurl=Y'\n",
    "referer = \"http://simba.isr.umich.edu/Zips/ZipMain.aspx\"\n",
    "data1 = c.get(url, allow_redirects=False,\n",
    "              headers={\"Referer\": referer})"
   ]
  },
  {
   "cell_type": "code",
   "execution_count": 24,
   "id": "74d07c06",
   "metadata": {},
   "outputs": [
    {
     "ename": "KeyError",
     "evalue": "None",
     "output_type": "error",
     "traceback": [
      "\u001b[0;31m---------------------------------------------------------------------------\u001b[0m",
      "\u001b[0;31mKeyError\u001b[0m                                  Traceback (most recent call last)",
      "\u001b[0;32m~/opt/anaconda3/lib/python3.9/site-packages/pandas/core/indexes/base.py\u001b[0m in \u001b[0;36mget_loc\u001b[0;34m(self, key, method, tolerance)\u001b[0m\n\u001b[1;32m   3628\u001b[0m             \u001b[0;32mtry\u001b[0m\u001b[0;34m:\u001b[0m\u001b[0;34m\u001b[0m\u001b[0;34m\u001b[0m\u001b[0m\n\u001b[0;32m-> 3629\u001b[0;31m                 \u001b[0;32mreturn\u001b[0m \u001b[0mself\u001b[0m\u001b[0;34m.\u001b[0m\u001b[0m_engine\u001b[0m\u001b[0;34m.\u001b[0m\u001b[0mget_loc\u001b[0m\u001b[0;34m(\u001b[0m\u001b[0mcasted_key\u001b[0m\u001b[0;34m)\u001b[0m\u001b[0;34m\u001b[0m\u001b[0;34m\u001b[0m\u001b[0m\n\u001b[0m\u001b[1;32m   3630\u001b[0m             \u001b[0;32mexcept\u001b[0m \u001b[0mKeyError\u001b[0m \u001b[0;32mas\u001b[0m \u001b[0merr\u001b[0m\u001b[0;34m:\u001b[0m\u001b[0;34m\u001b[0m\u001b[0;34m\u001b[0m\u001b[0m\n",
      "\u001b[0;32m~/opt/anaconda3/lib/python3.9/site-packages/pandas/_libs/index.pyx\u001b[0m in \u001b[0;36mpandas._libs.index.IndexEngine.get_loc\u001b[0;34m()\u001b[0m\n",
      "\u001b[0;32m~/opt/anaconda3/lib/python3.9/site-packages/pandas/_libs/index.pyx\u001b[0m in \u001b[0;36mpandas._libs.index.IndexEngine.get_loc\u001b[0;34m()\u001b[0m\n",
      "\u001b[0;32mpandas/_libs/hashtable_class_helper.pxi\u001b[0m in \u001b[0;36mpandas._libs.hashtable.PyObjectHashTable.get_item\u001b[0;34m()\u001b[0m\n",
      "\u001b[0;32mpandas/_libs/hashtable_class_helper.pxi\u001b[0m in \u001b[0;36mpandas._libs.hashtable.PyObjectHashTable.get_item\u001b[0;34m()\u001b[0m\n",
      "\u001b[0;31mKeyError\u001b[0m: None",
      "\nThe above exception was the direct cause of the following exception:\n",
      "\u001b[0;31mKeyError\u001b[0m                                  Traceback (most recent call last)",
      "\u001b[0;32m/var/folders/r1/v24t28293vb4sxbzx6539ddw0000gn/T/ipykernel_919/601896131.py\u001b[0m in \u001b[0;36m<module>\u001b[0;34m\u001b[0m\n\u001b[1;32m     28\u001b[0m \u001b[0;34m\u001b[0m\u001b[0m\n\u001b[1;32m     29\u001b[0m     \u001b[0;31m#Use psidPy to read the sas file in\u001b[0m\u001b[0;34m\u001b[0m\u001b[0;34m\u001b[0m\u001b[0m\n\u001b[0;32m---> 30\u001b[0;31m     \u001b[0mframes\u001b[0m\u001b[0;34m[\u001b[0m\u001b[0mi\u001b[0m\u001b[0;34m]\u001b[0m \u001b[0;34m=\u001b[0m \u001b[0mpd\u001b[0m\u001b[0;34m.\u001b[0m\u001b[0mconcat\u001b[0m\u001b[0;34m(\u001b[0m\u001b[0;34m[\u001b[0m\u001b[0mframes\u001b[0m\u001b[0;34m[\u001b[0m\u001b[0mi\u001b[0m\u001b[0;34m]\u001b[0m\u001b[0;34m,\u001b[0m \u001b[0mread_sas\u001b[0m\u001b[0;34m.\u001b[0m\u001b[0mread_sas\u001b[0m\u001b[0;34m(\u001b[0m\u001b[0mdata_file\u001b[0m\u001b[0;34m,\u001b[0m \u001b[0mdict_file\u001b[0m\u001b[0;34m)\u001b[0m\u001b[0;34m]\u001b[0m\u001b[0;34m)\u001b[0m\u001b[0;34m\u001b[0m\u001b[0;34m\u001b[0m\u001b[0m\n\u001b[0m",
      "\u001b[0;32m~/opt/anaconda3/lib/python3.9/site-packages/psid_py/read_sas.py\u001b[0m in \u001b[0;36mread_sas\u001b[0;34m(data_file, dict_file, beginline, buffersize, zipped, lrecl, skip_decimal_division)\u001b[0m\n\u001b[1;32m    412\u001b[0m     \u001b[0mbeginline\u001b[0m       \u001b[0;34m:\u001b[0m   \u001b[0minteger\u001b[0m\u001b[0;34m;\u001b[0m\u001b[0;34m\u001b[0m\u001b[0;34m\u001b[0m\u001b[0m\n\u001b[1;32m    413\u001b[0m     \"\"\"\n\u001b[0;32m--> 414\u001b[0;31m     \u001b[0mDF\u001b[0m \u001b[0;34m=\u001b[0m \u001b[0mparse_sas\u001b[0m\u001b[0;34m(\u001b[0m\u001b[0mdict_file\u001b[0m\u001b[0;34m,\u001b[0m \u001b[0mbeginline\u001b[0m\u001b[0;34m,\u001b[0m \u001b[0mlrecl\u001b[0m\u001b[0;34m)\u001b[0m\u001b[0;34m\u001b[0m\u001b[0;34m\u001b[0m\u001b[0m\n\u001b[0m\u001b[1;32m    415\u001b[0m \u001b[0;34m\u001b[0m\u001b[0m\n\u001b[1;32m    416\u001b[0m     \u001b[0;31m#Take only rows with variable names\u001b[0m\u001b[0;34m\u001b[0m\u001b[0;34m\u001b[0m\u001b[0m\n",
      "\u001b[0;32m~/opt/anaconda3/lib/python3.9/site-packages/psid_py/read_sas.py\u001b[0m in \u001b[0;36mparse_sas\u001b[0;34m(dict_file, beginline, lrecl)\u001b[0m\n\u001b[1;32m    380\u001b[0m     \u001b[0;31m#structure: VARNAME #START - #END\u001b[0m\u001b[0;34m\u001b[0m\u001b[0;34m\u001b[0m\u001b[0m\n\u001b[1;32m    381\u001b[0m     \u001b[0;32melse\u001b[0m\u001b[0;34m:\u001b[0m\u001b[0;34m\u001b[0m\u001b[0;34m\u001b[0m\u001b[0m\n\u001b[0;32m--> 382\u001b[0;31m         \u001b[0mDF\u001b[0m \u001b[0;34m=\u001b[0m \u001b[0mhash_parse\u001b[0m\u001b[0;34m(\u001b[0m\u001b[0msas_input_lines\u001b[0m\u001b[0;34m,\u001b[0m \u001b[0mDF\u001b[0m\u001b[0;34m)\u001b[0m\u001b[0;34m\u001b[0m\u001b[0;34m\u001b[0m\u001b[0m\n\u001b[0m\u001b[1;32m    383\u001b[0m \u001b[0;34m\u001b[0m\u001b[0m\n\u001b[1;32m    384\u001b[0m     \u001b[0;31m#Take only the four necessary columns\u001b[0m\u001b[0;34m\u001b[0m\u001b[0;34m\u001b[0m\u001b[0m\n",
      "\u001b[0;32m~/opt/anaconda3/lib/python3.9/site-packages/psid_py/read_sas.py\u001b[0m in \u001b[0;36mhash_parse\u001b[0;34m(sas_input_lines, DF)\u001b[0m\n\u001b[1;32m    313\u001b[0m     \u001b[0mDF\u001b[0m\u001b[0;34m[\u001b[0m\u001b[0;34m'width'\u001b[0m\u001b[0;34m]\u001b[0m \u001b[0;34m=\u001b[0m \u001b[0mDF\u001b[0m\u001b[0;34m[\u001b[0m\u001b[0;34m'end'\u001b[0m\u001b[0;34m]\u001b[0m \u001b[0;34m-\u001b[0m \u001b[0mDF\u001b[0m\u001b[0;34m[\u001b[0m\u001b[0;34m'start'\u001b[0m\u001b[0;34m]\u001b[0m \u001b[0;34m+\u001b[0m \u001b[0;36m1\u001b[0m\u001b[0;34m\u001b[0m\u001b[0;34m\u001b[0m\u001b[0m\n\u001b[1;32m    314\u001b[0m     \u001b[0;31m#Replace missing variable names with negative number\u001b[0m\u001b[0;34m\u001b[0m\u001b[0;34m\u001b[0m\u001b[0m\n\u001b[0;32m--> 315\u001b[0;31m     dummy_for_missing = pd.get_dummies(DF['varname'],\n\u001b[0m\u001b[1;32m    316\u001b[0m                                        dummy_na=True)[None]*(-2) + 1\n\u001b[1;32m    317\u001b[0m     \u001b[0mDF\u001b[0m\u001b[0;34m[\u001b[0m\u001b[0;34m'width'\u001b[0m\u001b[0;34m]\u001b[0m \u001b[0;34m=\u001b[0m \u001b[0mDF\u001b[0m\u001b[0;34m[\u001b[0m\u001b[0;34m'width'\u001b[0m\u001b[0;34m]\u001b[0m\u001b[0;34m*\u001b[0m\u001b[0mdummy_for_missing\u001b[0m\u001b[0;34m\u001b[0m\u001b[0;34m\u001b[0m\u001b[0m\n",
      "\u001b[0;32m~/opt/anaconda3/lib/python3.9/site-packages/pandas/core/frame.py\u001b[0m in \u001b[0;36m__getitem__\u001b[0;34m(self, key)\u001b[0m\n\u001b[1;32m   3503\u001b[0m             \u001b[0;32mif\u001b[0m \u001b[0mself\u001b[0m\u001b[0;34m.\u001b[0m\u001b[0mcolumns\u001b[0m\u001b[0;34m.\u001b[0m\u001b[0mnlevels\u001b[0m \u001b[0;34m>\u001b[0m \u001b[0;36m1\u001b[0m\u001b[0;34m:\u001b[0m\u001b[0;34m\u001b[0m\u001b[0;34m\u001b[0m\u001b[0m\n\u001b[1;32m   3504\u001b[0m                 \u001b[0;32mreturn\u001b[0m \u001b[0mself\u001b[0m\u001b[0;34m.\u001b[0m\u001b[0m_getitem_multilevel\u001b[0m\u001b[0;34m(\u001b[0m\u001b[0mkey\u001b[0m\u001b[0;34m)\u001b[0m\u001b[0;34m\u001b[0m\u001b[0;34m\u001b[0m\u001b[0m\n\u001b[0;32m-> 3505\u001b[0;31m             \u001b[0mindexer\u001b[0m \u001b[0;34m=\u001b[0m \u001b[0mself\u001b[0m\u001b[0;34m.\u001b[0m\u001b[0mcolumns\u001b[0m\u001b[0;34m.\u001b[0m\u001b[0mget_loc\u001b[0m\u001b[0;34m(\u001b[0m\u001b[0mkey\u001b[0m\u001b[0;34m)\u001b[0m\u001b[0;34m\u001b[0m\u001b[0;34m\u001b[0m\u001b[0m\n\u001b[0m\u001b[1;32m   3506\u001b[0m             \u001b[0;32mif\u001b[0m \u001b[0mis_integer\u001b[0m\u001b[0;34m(\u001b[0m\u001b[0mindexer\u001b[0m\u001b[0;34m)\u001b[0m\u001b[0;34m:\u001b[0m\u001b[0;34m\u001b[0m\u001b[0;34m\u001b[0m\u001b[0m\n\u001b[1;32m   3507\u001b[0m                 \u001b[0mindexer\u001b[0m \u001b[0;34m=\u001b[0m \u001b[0;34m[\u001b[0m\u001b[0mindexer\u001b[0m\u001b[0;34m]\u001b[0m\u001b[0;34m\u001b[0m\u001b[0;34m\u001b[0m\u001b[0m\n",
      "\u001b[0;32m~/opt/anaconda3/lib/python3.9/site-packages/pandas/core/indexes/base.py\u001b[0m in \u001b[0;36mget_loc\u001b[0;34m(self, key, method, tolerance)\u001b[0m\n\u001b[1;32m   3629\u001b[0m                 \u001b[0;32mreturn\u001b[0m \u001b[0mself\u001b[0m\u001b[0;34m.\u001b[0m\u001b[0m_engine\u001b[0m\u001b[0;34m.\u001b[0m\u001b[0mget_loc\u001b[0m\u001b[0;34m(\u001b[0m\u001b[0mcasted_key\u001b[0m\u001b[0;34m)\u001b[0m\u001b[0;34m\u001b[0m\u001b[0;34m\u001b[0m\u001b[0m\n\u001b[1;32m   3630\u001b[0m             \u001b[0;32mexcept\u001b[0m \u001b[0mKeyError\u001b[0m \u001b[0;32mas\u001b[0m \u001b[0merr\u001b[0m\u001b[0;34m:\u001b[0m\u001b[0;34m\u001b[0m\u001b[0;34m\u001b[0m\u001b[0m\n\u001b[0;32m-> 3631\u001b[0;31m                 \u001b[0;32mraise\u001b[0m \u001b[0mKeyError\u001b[0m\u001b[0;34m(\u001b[0m\u001b[0mkey\u001b[0m\u001b[0;34m)\u001b[0m \u001b[0;32mfrom\u001b[0m \u001b[0merr\u001b[0m\u001b[0;34m\u001b[0m\u001b[0;34m\u001b[0m\u001b[0m\n\u001b[0m\u001b[1;32m   3632\u001b[0m             \u001b[0;32mexcept\u001b[0m \u001b[0mTypeError\u001b[0m\u001b[0;34m:\u001b[0m\u001b[0;34m\u001b[0m\u001b[0;34m\u001b[0m\u001b[0m\n\u001b[1;32m   3633\u001b[0m                 \u001b[0;31m# If we have a listlike key, _check_indexing_error will raise\u001b[0m\u001b[0;34m\u001b[0m\u001b[0;34m\u001b[0m\u001b[0m\n",
      "\u001b[0;31mKeyError\u001b[0m: None"
     ]
    }
   ],
   "source": [
    "#Download a second file\n",
    "file = \"1058\"\n",
    "url = 'http://simba.isr.umich.edu/Zips/GetFile.aspx?file='\\\n",
    "    + file + '&mainurl=Y'\n",
    "data2 = c.get(url, allow_redirects=False,\n",
    "              headers={\"Referer\": referer})\n",
    "#Create a temporary directory to store unzipped files\n",
    "temp_dir = tempfile.mkdtemp() + os.sep\n",
    "\n",
    "x = pd.DataFrame()\n",
    "y = pd.DataFrame()\n",
    "frames = [x, y]\n",
    "\n",
    "for i, data in enumerate([data1, data2]):\n",
    "    #Extract the zipped files\n",
    "    zipped = zipfile.ZipFile(BytesIO(data.content))\n",
    "    files_to_unzip = (x for x in zipped.namelist() if \n",
    "                      any(['.sas' in x, '.txt' in x]))\n",
    "\n",
    "    for NAME in files_to_unzip:\n",
    "        temp_name = zipped.extract(NAME, temp_dir)\n",
    "        #Test if you have just found the dictionary\n",
    "        if temp_name.find('.sas') >= 0:\n",
    "            dict_file = str(temp_name)\n",
    "        #If not, you have found the data\n",
    "        else:\n",
    "            data_file = str(temp_name)\n",
    "\n",
    "    #Use psidPy to read the sas file in\n",
    "    frames[i] = pd.concat([frames[i], read_sas.read_sas(data_file, dict_file)])\n"
   ]
  }
 ],
 "metadata": {
  "kernelspec": {
   "display_name": "Python 3 (ipykernel)",
   "language": "python",
   "name": "python3"
  },
  "language_info": {
   "codemirror_mode": {
    "name": "ipython",
    "version": 3
   },
   "file_extension": ".py",
   "mimetype": "text/x-python",
   "name": "python",
   "nbconvert_exporter": "python",
   "pygments_lexer": "ipython3",
   "version": "3.9.13"
  }
 },
 "nbformat": 4,
 "nbformat_minor": 5
}

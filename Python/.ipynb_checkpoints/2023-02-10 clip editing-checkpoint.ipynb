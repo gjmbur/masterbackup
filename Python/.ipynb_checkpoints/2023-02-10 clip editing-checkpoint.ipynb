{
 "cells": [
  {
   "cell_type": "code",
   "execution_count": 8,
   "id": "8f568add",
   "metadata": {},
   "outputs": [],
   "source": [
    "# Import everything needed to edit video clips\n",
    "from moviepy.editor import *\n",
    " \n",
    "# loading video dsa gfg intro video\n",
    "clip1 = VideoFileClip(\"/Users/griffinjmbur/Documents/Video lectures/regression1 1080.mov\")\n",
    " \n",
    "clip2 = VideoFileClip(\"/Users/griffinjmbur/Documents/Video lectures/regression2 1080.mov\")\n",
    " "
   ]
  },
  {
   "cell_type": "code",
   "execution_count": null,
   "id": "21993342",
   "metadata": {},
   "outputs": [],
   "source": [
    "import moviepy.editor as mp\n",
    "clip1 = VideoFileClip(\"/Users/griffinjmbur/Documents/Video lectures/regression1 1080.mov\")\n",
    " \n",
    "clip2 = VideoFileClip(\"/Users/griffinjmbur/Documents/Video lectures/regression2 1080.mov\")\n",
    " \n",
    "clip2 = mp.VideoFileClip(\"movie.mp4\")\n",
    "clip2_resized = clip2.resize(height=640) \n",
    "clip1_resized = clip1.resize(height=640)\n"
   ]
  }
 ],
 "metadata": {
  "kernelspec": {
   "display_name": "Python 3 (ipykernel)",
   "language": "python",
   "name": "python3"
  },
  "language_info": {
   "codemirror_mode": {
    "name": "ipython",
    "version": 3
   },
   "file_extension": ".py",
   "mimetype": "text/x-python",
   "name": "python",
   "nbconvert_exporter": "python",
   "pygments_lexer": "ipython3",
   "version": "3.9.13"
  }
 },
 "nbformat": 4,
 "nbformat_minor": 5
}

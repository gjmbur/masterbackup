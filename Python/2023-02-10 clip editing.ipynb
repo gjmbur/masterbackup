{
 "cells": [
  {
   "cell_type": "code",
   "execution_count": 1,
   "id": "8f568add",
   "metadata": {},
   "outputs": [],
   "source": [
    "# Import everything needed to edit video clips\n",
    "from moviepy.editor import *\n",
    " \n",
    "# loading video dsa gfg intro video\n",
    "clip1 = VideoFileClip(\"/Users/griffinjmbur/Documents/Video lectures/regression1 1080.mov\")\n",
    " \n",
    "clip2 = VideoFileClip(\"/Users/griffinjmbur/Documents/Video lectures/regression2 1080.mov\")\n",
    " "
   ]
  },
  {
   "cell_type": "code",
   "execution_count": 5,
   "id": "21993342",
   "metadata": {},
   "outputs": [
    {
     "name": "stdout",
     "output_type": "stream",
     "text": [
      "Moviepy - Building video texts.mp4.\n",
      "MoviePy - Writing audio in textsTEMP_MPY_wvf_snd.mp3\n"
     ]
    },
    {
     "name": "stderr",
     "output_type": "stream",
     "text": [
      "                                                                                \r"
     ]
    },
    {
     "name": "stdout",
     "output_type": "stream",
     "text": [
      "MoviePy - Done.\n",
      "Moviepy - Writing video texts.mp4\n",
      "\n"
     ]
    },
    {
     "name": "stderr",
     "output_type": "stream",
     "text": [
      "                                                                                \r"
     ]
    },
    {
     "name": "stdout",
     "output_type": "stream",
     "text": [
      "Moviepy - Done !\n",
      "Moviepy - video ready texts.mp4\n"
     ]
    }
   ],
   "source": [
    "import moviepy.editor as mp\n",
    "clip1 = VideoFileClip(\"/Users/griffinjmbur/Documents/Video lectures/regression1 1080.mov\")\n",
    " \n",
    "clip2 = VideoFileClip(\"/Users/griffinjmbur/Documents/Video lectures/regression2 1080.mov\")\n",
    "\n",
    "clips = clip1, clip2\n",
    "\n",
    "concat_clip = mp.concatenate_videoclips(clips, method=\"compose\")\n",
    "concat_clip.write_videofile(\"texts.mp4\")"
   ]
  },
  {
   "cell_type": "code",
   "execution_count": null,
   "id": "610332d9",
   "metadata": {},
   "outputs": [],
   "source": [
    "import moviepy.editor as mp\n",
    "messages = [\"Dog\", \"Cat\", \"Duck\", \"Wolf\"]\n",
    "clips = [ mp.TextClip(txt, fontsize=170, color='green', size=(500,300))\n",
    "            .set_duration(1)\n",
    "          for txt in  messages]\n",
    "concat_clip = mp.concatenate_videoclips(clips)\n",
    "concat_clip.write_videofile(\"texts.mp4\")"
   ]
  }
 ],
 "metadata": {
  "kernelspec": {
   "display_name": "Python 3 (ipykernel)",
   "language": "python",
   "name": "python3"
  },
  "language_info": {
   "codemirror_mode": {
    "name": "ipython",
    "version": 3
   },
   "file_extension": ".py",
   "mimetype": "text/x-python",
   "name": "python",
   "nbconvert_exporter": "python",
   "pygments_lexer": "ipython3",
   "version": "3.9.13"
  }
 },
 "nbformat": 4,
 "nbformat_minor": 5
}

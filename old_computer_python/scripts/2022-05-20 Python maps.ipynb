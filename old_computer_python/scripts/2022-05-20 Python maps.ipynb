{
 "cells": [
  {
   "cell_type": "code",
   "execution_count": null,
   "id": "d93f7e0e",
   "metadata": {},
   "outputs": [],
   "source": [
    "import pandas as pd\n",
    "from pandas import Series, DataFrame\n",
    "df = pd.read_stata('~/desktop/python/data/cps2019modified.dta') "
   ]
  },
  {
   "cell_type": "code",
   "execution_count": null,
   "id": "21aa24fd",
   "metadata": {},
   "outputs": [],
   "source": [
    "conda create --name myenviro\n",
    "y"
   ]
  },
  {
   "cell_type": "code",
   "execution_count": null,
   "id": "a439f77d",
   "metadata": {},
   "outputs": [],
   "source": [
    "conda install basemap\n",
    "import numpy as np\n",
    "import matplotlib.pyplot as plt\n",
    "from mpl_toolkits.basemap import Basemap\n",
    "plt.figure(figsize=(8, 8))\n",
    "m = Basemap(projection='ortho', resolution=None, lat_0=50, lon_0=-100)\n",
    "m.bluemarble(scale=0.5);\n",
    "from itertools import chain\n",
    "def draw_map(m, scale=0.2):\n",
    "    # draw a shaded-relief image\n",
    "    m.shadedrelief(scale=scale)\n",
    "lats = m.drawparallels(np.linspace(-90, 90, 13))\n",
    "lons = m.drawmeridians(np.linspace(-180, 180, 13))\n",
    "lat_lines = chain(*(tup[1][0] for tup in lats.items()))\n",
    "lon_lines = chain(*(tup[1][0] for tup in lons.items()))\n",
    "all_lines = chain(lat_lines, lon_lines)\n",
    "# cycle through these lines and set the desired style\n",
    "for line in all_lines:\n",
    "    line.set(linestyle='-', alpha=0.3, color='w')\n",
    "fig = plt.figure(figsize=(8, 6), edgecolor='w')\n",
    "m = Basemap(projection='cyl', resolution=None,\n",
    "    llcrnrlat=-90, urcrnrlat=90,\n",
    "    llcrnrlon=-180, urcrnrlon=180, )\n",
    "draw_map(m)"
   ]
  },
  {
   "cell_type": "code",
   "execution_count": null,
   "id": "6957d32e",
   "metadata": {},
   "outputs": [],
   "source": [
    "first = df.head(50)\n",
    "print(first)"
   ]
  },
  {
   "cell_type": "code",
   "execution_count": null,
   "id": "9c0e9aa2",
   "metadata": {},
   "outputs": [],
   "source": []
  }
 ],
 "metadata": {
  "kernelspec": {
   "display_name": "Python 3 (ipykernel)",
   "language": "python",
   "name": "python3"
  },
  "language_info": {
   "codemirror_mode": {
    "name": "ipython",
    "version": 3
   },
   "file_extension": ".py",
   "mimetype": "text/x-python",
   "name": "python",
   "nbconvert_exporter": "python",
   "pygments_lexer": "ipython3",
   "version": "3.9.12"
  }
 },
 "nbformat": 4,
 "nbformat_minor": 5
}

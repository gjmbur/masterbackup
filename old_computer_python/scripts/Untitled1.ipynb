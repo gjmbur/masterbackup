{
 "cells": [
  {
   "cell_type": "code",
   "execution_count": 1,
   "id": "98dcbf7b",
   "metadata": {},
   "outputs": [
    {
     "name": "stdout",
     "output_type": "stream",
     "text": [
      "<!DOCTYPE html>\r\n",
      "<html>\r\n",
      "    <head>\r\n",
      "        <meta charset=\"UTF-8\" />\r\n",
      "        <meta http-equiv=\"refresh\" content=\"0;url='https://raw.githubusercontent.com/akarlinsky/world_mortality/main/world_mortality.csv'\" />\r\n",
      "\r\n",
      "        <title>Redirecting to https://raw.githubusercontent.com/akarlinsky/world_mortality/main/world_mortality.csv</title>\r\n",
      "    </head>\r\n",
      "    <body>\r\n",
      "        Redirecting to <a href=\"https://raw.githubusercontent.com/akarlinsky/world_mortality/main/world_mortality.csv\">https://raw.githubusercontent.com/akarlinsky/world_mortality/main/world_mortality.csv</a>.\r\n",
      "    </body>\r\n",
      "</html>"
     ]
    }
   ],
   "source": [
    "!curl -0 https://tinyurl.com/OWIDChile"
   ]
  },
  {
   "cell_type": "code",
   "execution_count": 2,
   "id": "33765cfd",
   "metadata": {},
   "outputs": [
    {
     "data": {
      "text/plain": [
       "'/Users/gjmb/Desktop/Python'"
      ]
     },
     "execution_count": 2,
     "metadata": {},
     "output_type": "execute_result"
    }
   ],
   "source": [
    "pwd"
   ]
  },
  {
   "cell_type": "code",
   "execution_count": 4,
   "id": "31ec15b7",
   "metadata": {},
   "outputs": [],
   "source": [
    "import numpy as np\n",
    "import pandas as pd\n",
    "test = pd.read_csv(\"https://tinyurl.com/OWIDChile\")"
   ]
  },
  {
   "cell_type": "code",
   "execution_count": 5,
   "id": "101eef97",
   "metadata": {},
   "outputs": [
    {
     "data": {
      "text/html": [
       "<div>\n",
       "<style scoped>\n",
       "    .dataframe tbody tr th:only-of-type {\n",
       "        vertical-align: middle;\n",
       "    }\n",
       "\n",
       "    .dataframe tbody tr th {\n",
       "        vertical-align: top;\n",
       "    }\n",
       "\n",
       "    .dataframe thead th {\n",
       "        text-align: right;\n",
       "    }\n",
       "</style>\n",
       "<table border=\"1\" class=\"dataframe\">\n",
       "  <thead>\n",
       "    <tr style=\"text-align: right;\">\n",
       "      <th></th>\n",
       "      <th>iso3c</th>\n",
       "      <th>country_name</th>\n",
       "      <th>year</th>\n",
       "      <th>time</th>\n",
       "      <th>time_unit</th>\n",
       "      <th>deaths</th>\n",
       "    </tr>\n",
       "  </thead>\n",
       "  <tbody>\n",
       "    <tr>\n",
       "      <th>0</th>\n",
       "      <td>ALB</td>\n",
       "      <td>Albania</td>\n",
       "      <td>2015</td>\n",
       "      <td>1</td>\n",
       "      <td>monthly</td>\n",
       "      <td>2490.0</td>\n",
       "    </tr>\n",
       "    <tr>\n",
       "      <th>1</th>\n",
       "      <td>ALB</td>\n",
       "      <td>Albania</td>\n",
       "      <td>2015</td>\n",
       "      <td>2</td>\n",
       "      <td>monthly</td>\n",
       "      <td>2139.0</td>\n",
       "    </tr>\n",
       "    <tr>\n",
       "      <th>2</th>\n",
       "      <td>ALB</td>\n",
       "      <td>Albania</td>\n",
       "      <td>2015</td>\n",
       "      <td>3</td>\n",
       "      <td>monthly</td>\n",
       "      <td>2051.0</td>\n",
       "    </tr>\n",
       "    <tr>\n",
       "      <th>3</th>\n",
       "      <td>ALB</td>\n",
       "      <td>Albania</td>\n",
       "      <td>2015</td>\n",
       "      <td>4</td>\n",
       "      <td>monthly</td>\n",
       "      <td>1906.0</td>\n",
       "    </tr>\n",
       "    <tr>\n",
       "      <th>4</th>\n",
       "      <td>ALB</td>\n",
       "      <td>Albania</td>\n",
       "      <td>2015</td>\n",
       "      <td>5</td>\n",
       "      <td>monthly</td>\n",
       "      <td>1709.0</td>\n",
       "    </tr>\n",
       "  </tbody>\n",
       "</table>\n",
       "</div>"
      ],
      "text/plain": [
       "  iso3c country_name  year  time time_unit  deaths\n",
       "0   ALB      Albania  2015     1   monthly  2490.0\n",
       "1   ALB      Albania  2015     2   monthly  2139.0\n",
       "2   ALB      Albania  2015     3   monthly  2051.0\n",
       "3   ALB      Albania  2015     4   monthly  1906.0\n",
       "4   ALB      Albania  2015     5   monthly  1709.0"
      ]
     },
     "execution_count": 5,
     "metadata": {},
     "output_type": "execute_result"
    }
   ],
   "source": [
    "test.head()"
   ]
  },
  {
   "cell_type": "code",
   "execution_count": null,
   "id": "f521e858",
   "metadata": {},
   "outputs": [],
   "source": []
  }
 ],
 "metadata": {
  "kernelspec": {
   "display_name": "Python 3 (ipykernel)",
   "language": "python",
   "name": "python3"
  },
  "language_info": {
   "codemirror_mode": {
    "name": "ipython",
    "version": 3
   },
   "file_extension": ".py",
   "mimetype": "text/x-python",
   "name": "python",
   "nbconvert_exporter": "python",
   "pygments_lexer": "ipython3",
   "version": "3.9.12"
  }
 },
 "nbformat": 4,
 "nbformat_minor": 5
}

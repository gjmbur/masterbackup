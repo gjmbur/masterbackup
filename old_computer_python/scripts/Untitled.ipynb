{
 "cells": [
  {
   "cell_type": "code",
   "execution_count": 2,
   "id": "74c59c07",
   "metadata": {},
   "outputs": [
    {
     "name": "stdout",
     "output_type": "stream",
     "text": [
      "<class 'pandas.core.frame.DataFrame'>\n",
      "RangeIndex: 891 entries, 0 to 890\n",
      "Data columns (total 15 columns):\n",
      " #   Column       Non-Null Count  Dtype   \n",
      "---  ------       --------------  -----   \n",
      " 0   survived     891 non-null    int64   \n",
      " 1   pclass       891 non-null    int64   \n",
      " 2   sex          891 non-null    object  \n",
      " 3   age          714 non-null    float64 \n",
      " 4   sibsp        891 non-null    int64   \n",
      " 5   parch        891 non-null    int64   \n",
      " 6   fare         891 non-null    float64 \n",
      " 7   embarked     889 non-null    object  \n",
      " 8   class        891 non-null    category\n",
      " 9   who          891 non-null    object  \n",
      " 10  adult_male   891 non-null    bool    \n",
      " 11  deck         203 non-null    category\n",
      " 12  embark_town  889 non-null    object  \n",
      " 13  alive        891 non-null    object  \n",
      " 14  alone        891 non-null    bool    \n",
      "dtypes: bool(2), category(2), float64(2), int64(4), object(5)\n",
      "memory usage: 80.7+ KB\n"
     ]
    }
   ],
   "source": [
    "import numpy as np\n",
    "import pandas as pd\n",
    "import seaborn as sns\n",
    "data = sns.load_dataset('titanic')\n",
    "data.info()"
   ]
  },
  {
   "cell_type": "code",
   "execution_count": null,
   "id": "c48f1161",
   "metadata": {},
   "outputs": [],
   "source": [
    "snippet = data.head(50)\n",
    "print(snippet)"
   ]
  },
  {
   "cell_type": "code",
   "execution_count": null,
   "id": "8949bd41",
   "metadata": {},
   "outputs": [],
   "source": [
    "data.pivot_table('survived', index='sex', columns='class')"
   ]
  },
  {
   "cell_type": "code",
   "execution_count": null,
   "id": "abd3e61c",
   "metadata": {},
   "outputs": [],
   "source": [
    "print(type(np.sumd))"
   ]
  },
  {
   "cell_type": "code",
   "execution_count": null,
   "id": "a2d2e126",
   "metadata": {},
   "outputs": [],
   "source": [
    "def sumd(x):\n",
    "    print(\"1st percentile:\", np.nanpercentile(x, 1))\n",
    "    print(\"5th percentile:\", np.nanpercentile(x, 5))\n",
    "    print(\"25th percentile:\", np.nanpercentile(x, 25))\n",
    "    print(\"50th percentile:\", np.nanpercentile(x, 50))\n",
    "    print(\"75th percentile:\", np.nanpercentile(x, 75))\n",
    "    print(\"90th percentile:\", np.nanpercentile(x, 90))\n",
    "    print(\"95th percentile:\", np.nanpercentile(x, 95))\n",
    "    print(\"99th percentile:\", np.nanpercentile(x, 99))\n",
    "    print(\"mean:\", np.nanmean(x))\n",
    "    print(\"Std. Dev.\", np.std(x))\n",
    "    print(\"n:\", len(x))"
   ]
  },
  {
   "cell_type": "code",
   "execution_count": null,
   "id": "0fafba07",
   "metadata": {},
   "outputs": [],
   "source": [
    "sumd(data['age'])"
   ]
  },
  {
   "cell_type": "code",
   "execution_count": null,
   "id": "fcfe8d22",
   "metadata": {},
   "outputs": [],
   "source": [
    "data.head()"
   ]
  },
  {
   "cell_type": "code",
   "execution_count": 10,
   "id": "07965fa2",
   "metadata": {},
   "outputs": [],
   "source": [
    "a = np.arange(3).reshape((3, 1))"
   ]
  },
  {
   "cell_type": "code",
   "execution_count": 11,
   "id": "59ee5090",
   "metadata": {},
   "outputs": [
    {
     "data": {
      "text/plain": [
       "array([[0],\n",
       "       [1],\n",
       "       [2]])"
      ]
     },
     "execution_count": 11,
     "metadata": {},
     "output_type": "execute_result"
    }
   ],
   "source": [
    "a"
   ]
  },
  {
   "cell_type": "code",
   "execution_count": 12,
   "id": "668d7f4b",
   "metadata": {},
   "outputs": [
    {
     "data": {
      "text/plain": [
       "array([0, 1, 2])"
      ]
     },
     "execution_count": 12,
     "metadata": {},
     "output_type": "execute_result"
    }
   ],
   "source": [
    "b = np.arange(3)\n",
    "b"
   ]
  },
  {
   "cell_type": "code",
   "execution_count": 19,
   "id": "d7e8fa8e",
   "metadata": {},
   "outputs": [
    {
     "data": {
      "text/plain": [
       "array([[0, 1, 2]])"
      ]
     },
     "execution_count": 19,
     "metadata": {},
     "output_type": "execute_result"
    }
   ],
   "source": [
    "c = np.arange(3).reshape(1, 3)\n",
    "c"
   ]
  },
  {
   "cell_type": "code",
   "execution_count": null,
   "id": "55b6919c",
   "metadata": {},
   "outputs": [],
   "source": []
  }
 ],
 "metadata": {
  "kernelspec": {
   "display_name": "Python 3 (ipykernel)",
   "language": "python",
   "name": "python3"
  },
  "language_info": {
   "codemirror_mode": {
    "name": "ipython",
    "version": 3
   },
   "file_extension": ".py",
   "mimetype": "text/x-python",
   "name": "python",
   "nbconvert_exporter": "python",
   "pygments_lexer": "ipython3",
   "version": "3.9.12"
  }
 },
 "nbformat": 4,
 "nbformat_minor": 5
}

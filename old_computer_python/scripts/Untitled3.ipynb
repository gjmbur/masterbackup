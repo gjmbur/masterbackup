{
 "cells": [
  {
   "cell_type": "code",
   "execution_count": 2,
   "id": "7b2a16e5",
   "metadata": {},
   "outputs": [],
   "source": [
    "from IPython.display import display, Math, Latex\n",
    "from enum import Enum\n",
    "# useful: https://archive.ph/eqE2W"
   ]
  },
  {
   "cell_type": "code",
   "execution_count": 6,
   "id": "7574a25e",
   "metadata": {},
   "outputs": [
    {
     "data": {
      "text/latex": [
       "\n",
       "\\begin{tabular}{l c c  c}\\hline\\hline\n",
       "\\multicolumn{1}{c}{\\textbf{Variable}} & \\textbf{Mean}\n",
       " & \\textbf{Std. Dev.} & \\textbf{N}\\\\ \\hline\n",
       "rep78 & 3.406 & 0.99  & 69\\\\\n",
       "foreign & 0.297 & 0.46  & 74\\\\\n",
       "\\hline\\end{tabular}\n",
       "\\end{table}\n"
      ],
      "text/plain": [
       "<IPython.core.display.Latex object>"
      ]
     },
     "metadata": {},
     "output_type": "display_data"
    }
   ],
   "source": [
    "%%latex\n",
    "\\begin{table}[htbp]\\centering \\caption{Summary statistics \\label{sumstat}}\n",
    "\\begin{tabular}{l c c  c}\\hline\\hline\n",
    "\\multicolumn{1}{c}{\\textbf{Variable}} & \\textbf{Mean}\n",
    " & \\textbf{Std. Dev.} & \\textbf{N}\\\\ \\hline\n",
    "rep78 & 3.406 & 0.99  & 69\\\\\n",
    "foreign & 0.297 & 0.46  & 74\\\\\n",
    "\\hline\\end{tabular}\n",
    "\\end{table}"
   ]
  },
  {
   "cell_type": "code",
   "execution_count": null,
   "id": "cfb955cd",
   "metadata": {},
   "outputs": [],
   "source": []
  }
 ],
 "metadata": {
  "kernelspec": {
   "display_name": "Python 3 (ipykernel)",
   "language": "python",
   "name": "python3"
  },
  "language_info": {
   "codemirror_mode": {
    "name": "ipython",
    "version": 3
   },
   "file_extension": ".py",
   "mimetype": "text/x-python",
   "name": "python",
   "nbconvert_exporter": "python",
   "pygments_lexer": "ipython3",
   "version": "3.9.12"
  }
 },
 "nbformat": 4,
 "nbformat_minor": 5
}

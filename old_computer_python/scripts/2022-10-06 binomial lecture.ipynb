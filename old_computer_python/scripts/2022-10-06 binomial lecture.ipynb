{
 "cells": [
  {
   "cell_type": "code",
   "execution_count": 1,
   "id": "e3601d89",
   "metadata": {},
   "outputs": [],
   "source": [
    "from IPython.display import display, Math, Latex\n",
    "from enum import Enum\n",
    "# useful: https://archive.ph/eqE2W"
   ]
  },
  {
   "cell_type": "code",
   "execution_count": 18,
   "id": "a932d635",
   "metadata": {},
   "outputs": [
    {
     "data": {
      "text/latex": [
       "\\begin{aligned}\n",
       "&\\text{Begin by thinking about how you many ways you can select} \\hspace{.1cm} \n",
       "    \\textit{k} \\hspace{.1cm}  \\text{items from a set of} \\hspace{.1cm} \\textit{n} \\hspace{.1cm}  \\text{when you can replace them\n",
       "     and you care about the order.}                                                                                                   \n",
       "\\\\ &\\text{A paradigm case is flipping a fair coin: you can get the same outcome (H or T) more than once.}\n",
       "\\\\ &\\text{Here, the number of outcomes at each stage is two, so the total sample space is given by} \n",
       "    \\hspace{.1cm} 2^5 = 32. \n",
       "\\\\ &\\text{Then,} \\hspace{.1cm} \\mathbb{P}(H T T H H)\\text{, e.g., would be} \\hspace{.1cm}  0.5^5 = 0.03125. \n",
       "    \\\\ & \\hspace{0.5cm} \\Rightarrow \\text{Another way to see this is that our particular outcome is one \n",
       "    of the 32;} \\hspace{.1cm} 1/32 = 0.03125.\n",
       "\\\\[10pt] &\\text{Now, consider a case where you} \\hspace{0.1cm} \\textbf{cannot} \\hspace{0.1cm}  \\text{get the same outcome more than once\n",
       "    (you still care about order in this scenario).}\n",
       "\\\\ &\\text{A paradigm case is selecting, say, six billiard balls (a standard set has 16). How many ways can we do this?}\n",
       "\\\\ &\\text{For the first choice, we have 16 options; for the second, 15; the third, 14; and, so on. How can we \n",
       "        express this compactly?}\n",
       "\\\\ & 16 \\cdot 15 \\cdot 14 \\cdot 13 \\cdot 12 \\cdot 11 = \n",
       "    \\frac{16 \\cdot 15 \\cdot 14 \\cdot 13 \\cdot 12 \\cdot 11 \\cdot 10 \\cdot 9 \\cdot ...}{10 \\cdot 9 \\cdot ...}\n",
       "\\\\ & = \\frac{16!}{10!} = \\frac{n!}{(n-k)!} \\text{where \"n!\" indicates} \\prod_{i=1}^{n} i\n",
       "\n",
       "\\\\[10pt] &\\text{Now, consider a case where you} \\hspace{0.1cm} \\textbf{do not} \\hspace{0.1cm}  \\text{care about order.}\n",
       "\\\\ &\\text{In the billiard ball case, for example, we don't care know if we have the set {16, 15, 14} or the set {14, 15, 16}}.\n",
       "\\\\ &\\text{A helpful trick in these situations is to think about the concept of overcounting: does a way of counting\n",
       "        that we've already} \\cr & \\hspace{.5cm} \\text{learned somehow count what we want but overshoot it by a known factor?}\n",
       "\\\\ &\\text{Think about the billiard ball example. For each unique order of the billiard balls, we have overcounted by a known factor.}\n",
       "\\\\ &\\text{What is that factor? It would be the number of ways to arrange a given set of k chosen items, i.e., k!}\n",
       "\\\\ &\\text{So, the number of possible combination of size k from a set of n is} \\hspace{.1cm} \\frac{n!}{(n-k)! k!}\n",
       "     \\\\ & \\hspace{0.5cm} \\Rightarrow \\text{Notably, we get the same answer if we select not k items but (n-k) items.}\n",
       "     \\\\ & \\hspace{1cm} \\Rightarrow \\text{There is both a conceptual and a very simple mathematical proof, left as an exercise \n",
       "        (hint: just plug in (n-k) in place of k).}\n",
       "\\\\ &\\text{This is so important that we have special notation for this} \\hspace{.1cm}  \\textbf{binomial coefficient:} \n",
       "          \\hspace{.1cm} {n \\choose k}\n",
       "\\\\ & \\hspace{0.5cm} \\Rightarrow \\text{Remarkably, the rows of Pascal's triangle are binomial coefficients, among other things.} \n",
       "\\\\[10pt] &\\text{Now, we need to derive the binomial distribution. The first step is to discuss the formula for binomial expansion.}\n",
       "\\\\ &\\text{In high school, you may have learned about \"FOILing\" or the \"box-and-diamond\" method for expanding} \\hspace{.1cm} (X+Y)^2\n",
       "\\\\ &\\text{The rule: take each element of one binomial term (X+Y) and pair it with every element \n",
       "          from the other binomial term (see accompanying graphic).}\n",
       "\\\\ &\\text{We generalize this to the following algorithm: find every unique pairing of elements from each term.}\n",
       "\\\\ &\\text{This obviously leads to many duplicate terms; the question is \"how many of each duplicate?\" for an expansion} \\hspace{.1cm} (X+Y)^n...\n",
       "\\\\ &\\text{...and the answer is ...} {n \\choose k} \\text{satisfyingly!}\n",
       "     \\\\ & \\hspace{0.5cm} \\Rightarrow \\text{The logic: each term represents a selection of} \\hspace{.1cm} \\textit{k X}\\text{s} \\hspace{.1cm} \n",
       "    \\text{and} \\hspace{.1cm} \\textit{n-k Y}\\text{s since there are n buckets from which to select an X or a Y}.\n",
       "\\\\ &\\text{This leads to the proper \"Binomial Theorem\"}: (X+Y)^n = \\sum_{k=0}^n {n \\choose k} X^{n-k}Y^k\n",
       "\\\\ &\\text{The final step, then, is just to think about how this applies to the selection of k successes from n trials.}\n",
       "\\end{aligned}\n"
      ],
      "text/plain": [
       "<IPython.core.display.Latex object>"
      ]
     },
     "metadata": {},
     "output_type": "display_data"
    }
   ],
   "source": [
    "%%latex\n",
    "\\begin{aligned}\n",
    "&\\text{Begin by thinking about how you many ways you can select} \\hspace{.1cm} \n",
    "    \\textit{k} \\hspace{.1cm}  \\text{items from a set of} \\hspace{.1cm} \\textit{n} \\hspace{.1cm}  \\text{when you can replace them\n",
    "     and you care about the order.}                                                                                                   \n",
    "\\\\ &\\text{A paradigm case is flipping a fair coin: you can get the same outcome (H or T) more than once.}\n",
    "\\\\ &\\text{Here, the number of outcomes at each stage is two, so the total sample space is given by} \n",
    "    \\hspace{.1cm} 2^5 = 32. \n",
    "\\\\ &\\text{Then,} \\hspace{.1cm} \\mathbb{P}(H T T H H)\\text{, e.g., would be} \\hspace{.1cm}  0.5^5 = 0.03125. \n",
    "    \\\\ & \\hspace{0.5cm} \\Rightarrow \\text{Another way to see this is that our particular outcome is one \n",
    "    of the 32;} \\hspace{.1cm} 1/32 = 0.03125.\n",
    "\\\\[10pt] &\\text{Now, consider a case where you} \\hspace{0.1cm} \\textbf{cannot} \\hspace{0.1cm}  \\text{get the same outcome more than once\n",
    "    (you still care about order in this scenario).}\n",
    "\\\\ &\\text{A paradigm case is selecting, say, six billiard balls (a standard set has 16). How many ways can we do this?}\n",
    "\\\\ &\\text{For the first choice, we have 16 options; for the second, 15; the third, 14; and, so on. How can we \n",
    "        express this compactly?}\n",
    "\\\\ & 16 \\cdot 15 \\cdot 14 \\cdot 13 \\cdot 12 \\cdot 11 = \n",
    "    \\frac{16 \\cdot 15 \\cdot 14 \\cdot 13 \\cdot 12 \\cdot 11 \\cdot 10 \\cdot 9 \\cdot ...}{10 \\cdot 9 \\cdot ...}\n",
    "\\\\ & = \\frac{16!}{10!} = \\frac{n!}{(n-k)!} \\text{where \"n!\" indicates} \\prod_{i=1}^{n} i\n",
    "\n",
    "\\\\[10pt] &\\text{Now, consider a case where you} \\hspace{0.1cm} \\textbf{do not} \\hspace{0.1cm}  \\text{care about order.}\n",
    "\\\\ &\\text{In the billiard ball case, for example, we don't care know if we have the set {16, 15, 14} or the set {14, 15, 16}}.\n",
    "\\\\ &\\text{A helpful trick in these situations is to think about the concept of overcounting: does a way of counting\n",
    "        that we've already} \\cr & \\hspace{.5cm} \\text{learned somehow count what we want but overshoot it by a known factor?}\n",
    "\\\\ &\\text{Think about the billiard ball example. For each unique order of the billiard balls, we have overcounted by a known factor.}\n",
    "\\\\ &\\text{What is that factor? It would be the number of ways to arrange a given set of k chosen items, i.e., k!}\n",
    "\\\\ &\\text{So, the number of possible combination of size k from a set of n is} \\hspace{.1cm} \\frac{n!}{(n-k)! k!}\n",
    "     \\\\ & \\hspace{0.5cm} \\Rightarrow \\text{Notably, we get the same answer if we select not k items but (n-k) items.}\n",
    "     \\\\ & \\hspace{1cm} \\Rightarrow \\text{There is both a conceptual and a very simple mathematical proof, left as an exercise \n",
    "        (hint: just plug in (n-k) in place of k).}\n",
    "\\\\ &\\text{This is so important that we have special notation for this} \\hspace{.1cm}  \\textbf{binomial coefficient:} \n",
    "          \\hspace{.1cm} {n \\choose k}\n",
    "\\\\ & \\hspace{0.5cm} \\Rightarrow \\text{Remarkably, the rows of Pascal's triangle are binomial coefficients, among other things.} \n",
    "\\\\[10pt] &\\text{Now, we need to derive the binomial distribution. The first step is to discuss the formula for binomial expansion.}\n",
    "\\\\ &\\text{In high school, you may have learned about \"FOILing\" or the \"box-and-diamond\" method for expanding} \\hspace{.1cm} (X+Y)^2\n",
    "\\\\ &\\text{The rule: take each element of one binomial term (X+Y) and pair it with every element \n",
    "          from the other binomial term (see accompanying graphic).}\n",
    "\\\\ &\\text{We generalize this to the following algorithm: find every unique pairing of elements from each term.}\n",
    "\\\\ &\\text{This obviously leads to many duplicate terms; the question is \"how many of each duplicate?\" for an expansion} \\hspace{.1cm} (X+Y)^n...\n",
    "\\\\ &\\text{...and the answer is ...} {n \\choose k} \\text{satisfyingly!}\n",
    "     \\\\ & \\hspace{0.5cm} \\Rightarrow \\text{The logic: each term represents a selection of} \\hspace{.1cm} \\textit{k X}\\text{s} \\hspace{.1cm} \n",
    "    \\text{and} \\hspace{.1cm} \\textit{n-k Y}\\text{s since there are n buckets from which to select an X or a Y}.\n",
    "\\\\ &\\text{This leads to the proper \"Binomial Theorem\"}: (X+Y)^n = \\sum_{k=0}^n {n \\choose k} X^{n-k}Y^k\n",
    "\\\\ &\\text{The final step, then, is just to think about how this applies to the selection of k successes from n trials.}\n",
    "\\end{aligned}"
   ]
  },
  {
   "cell_type": "code",
   "execution_count": 15,
   "id": "0a3fb451",
   "metadata": {},
   "outputs": [
    {
     "data": {
      "text/latex": [
       "\\begin{aligned}\n",
       "&\\text{First, define} \\hspace{.1cm} \\prod_ \\hspace{.1cm} \n",
       "    \\text{as the \"product of a sequence\" operator (much like} \\hspace{.05cm} \n",
       "    \\Sigma \\hspace{.05cm} \\text{is for addition.)} \\cr\n",
       "&\\prod_{i=1}^{n} X_i \\hspace{.05cm} \\text{would mean \"multiply together every number from} \n",
       "    \\hspace{.05cm} X_1 \\hspace{.05cm} \\text{to} \\hspace{.05cm} X_n\". \\cr\n",
       "&\\text{So, formally, n! just means...} \\cr\n",
       "&\\prod_{i=1}^{n} i\n",
       "\\end{aligned}\n"
      ],
      "text/plain": [
       "<IPython.core.display.Latex object>"
      ]
     },
     "metadata": {},
     "output_type": "display_data"
    }
   ],
   "source": [
    "%%latex\n",
    "\\begin{aligned}\n",
    "&\\text{First, define} \\hspace{.1cm} \\prod_ \\hspace{.1cm} \n",
    "    \\text{as the \"product of a sequence\" operator (much like} \\hspace{.05cm} \n",
    "    \\Sigma \\hspace{.05cm} \\text{is for addition.)} \\cr\n",
    "&\\prod_{i=1}^{n} X_i \\hspace{.05cm} \\text{would mean \"multiply together every number from} \n",
    "    \\hspace{.05cm} X_1 \\hspace{.05cm} \\text{to} \\hspace{.05cm} X_n\". \\cr\n",
    "&\\text{So, formally, n! just means...} \\cr\n",
    "&\\prod_{i=1}^{n} i\n",
    "\\end{aligned}"
   ]
  },
  {
   "cell_type": "code",
   "execution_count": 2,
   "id": "596031c6",
   "metadata": {},
   "outputs": [
    {
     "data": {
      "text/latex": [
       "\\begin{aligned}\n",
       "\\mathbb{P}(X = k) = {n \\choose k} p^{k}(1-p)^{n-k} \\cr\n",
       "\\mathbb{P}(X = k) = {10 \\choose k} 0.7^{k}(0.3)^{n-k} \\cr\n",
       "\\mathbb{P}(X = k) = {10 \\choose 7} 0.7^{7}(0.3)^{3}\n",
       "\\end{aligned}\n"
      ],
      "text/plain": [
       "<IPython.core.display.Latex object>"
      ]
     },
     "metadata": {},
     "output_type": "display_data"
    }
   ],
   "source": [
    "%%latex\n",
    "\\begin{aligned}\n",
    "\\mathbb{P}(X = k) = {n \\choose k} p^{k}(1-p)^{n-k} \\cr\n",
    "\\mathbb{P}(X = k) = {10 \\choose k} 0.7^{k}(0.3)^{n-k} \\cr\n",
    "\\mathbb{P}(X = k) = {10 \\choose 7} 0.7^{7}(0.3)^{3}\n",
    "\\end{aligned}"
   ]
  },
  {
   "cell_type": "code",
   "execution_count": 8,
   "id": "80a652d2",
   "metadata": {},
   "outputs": [
    {
     "data": {
      "text/latex": [
       "\\begin{array}{11}\n",
       "&\\text{X ~ B(n, p)} \\cr\n",
       "&\\mathbb{E}(X) = \\sum_{k=0}^n x_k p(X=k) \\hspace{.2cm} \\text{where k are the possible outcomes} \\cr\n",
       "&\\text{Our next step is to expand} \\hspace{.1cm}  k \\cdot {n \\choose k} \\cr\n",
       "&\\ k \\cdot {n \\choose k} = \\frac{k \\cdot n!}{(n-k)! k!} \\cr\n",
       "&\\ = \\frac{n!}{(k-1)! \\cdot (n-k)!} \\cr\n",
       "\\\\[1pt] &= \\frac{n \\cdot (n-1)!}{(k-1)! \\cdot (n-k)!} = n \\cdot {n-1 \\choose k-1}  &\\text{Note that} {n-1 \\choose k-1} = \\frac{(n-1)!}{(n-1-k+1)!(k-1)!} = \\frac{(n-1)!}{(n-k)!(k-1)!} \\cr\\cr\n",
       "\\end{array}\n"
      ],
      "text/plain": [
       "<IPython.core.display.Latex object>"
      ]
     },
     "metadata": {},
     "output_type": "display_data"
    }
   ],
   "source": [
    "%%latex\n",
    "\\begin{array}{11}\n",
    "&\\text{X ~ B(n, p)} \\cr\n",
    "&\\mathbb{E}(X) = \\sum_{k=0}^n x_k p(X=k) \\hspace{.2cm} \\text{where k are the possible outcomes} \\cr\n",
    "&\\text{Our next step is to expand} \\hspace{.1cm}  k \\cdot {n \\choose k} \\cr\n",
    "&\\ k \\cdot {n \\choose k} = \\frac{k \\cdot n!}{(n-k)! k!} \\cr\n",
    "&\\ = \\frac{n!}{(k-1)! \\cdot (n-k)!} \\cr\n",
    "\\\\[1pt] &= \\frac{n \\cdot (n-1)!}{(k-1)! \\cdot (n-k)!} = n \\cdot {n-1 \\choose k-1}  &\\text{Note that} {n-1 \\choose k-1} = \\frac{(n-1)!}{(n-1-k+1)!(k-1)!} = \\frac{(n-1)!}{(n-k)!(k-1)!} \\cr\\cr\n",
    "\\end{array}"
   ]
  },
  {
   "cell_type": "code",
   "execution_count": 11,
   "id": "fb8e1d07",
   "metadata": {},
   "outputs": [
    {
     "data": {
      "text/latex": [
       "\\begin{aligned}\n",
       "&\\text{X ~ B(n, p)} \\cr\n",
       "&\\mathbb{E}(X) = \\sum_{k=0}^n x_k p(X=k) \\hspace{.2cm} \\text{where k are the possible outcomes} \\cr\n",
       "&\\text{We now recall that} \\hspace{.1cm} p(X=k) = \\sum_{k=0}^n {n \\choose k} p^{k}(1-p)^{n-k} \\cr\n",
       "&\\mathbb{E}(X) = \\sum_{k=0}^n k \\cdot {n \\choose k} p^{k}(1-p)^{n-k} \\cr \n",
       "&= \\sum_{k=0}^n n \\cdot {n-1 \\choose k-1} p^{k}(1-p)^{n-k} \\cr \n",
       "&= n \\cdot \\sum_{k=0}^n {n-1 \\choose k-1} p^{k}(1-p)^{n-k} \\cr \n",
       "&\\text{The next part is a bit tricky: we modify our index to run from 0 to n-1.} \\cr\n",
       "&\\text{To make sure that we get the same result, we add 1 to k, starting the index one earlier.} \\cr\n",
       "&= n \\cdot \\sum_{k=0}^{n-1} {n-1 \\choose k} p^{k+1}(1-p)^{n-k-1} \\cr \n",
       "&= n \\cdot p \\sum_{k=0}^{n-1} {n-1 \\choose k} p^{k}(1-p)^{n-k-1} \\hspace{.2cm} \\text{...factor out a p} \\cr \n",
       "&\\text{Finally, by the binomial theorem} \\cr \n",
       "& [p + (1-p)]^{n-1} = \\sum_{k=0}^{n-1} {n-1 \\choose k} p^{k}(1-p)^{n-k-1}  \\hspace{.2cm} \\text{...so...} \\cr\n",
       "&= n \\cdot p [p + (1-p)]^{n-1} \\hspace{.2cm} \\text{and since p + 1-p = 1} \\cr\n",
       "&= n \\cdot p \\hspace{.5cm} QED. \n",
       "\\end{aligned}\n"
      ],
      "text/plain": [
       "<IPython.core.display.Latex object>"
      ]
     },
     "metadata": {},
     "output_type": "display_data"
    }
   ],
   "source": [
    "%%latex\n",
    "\\begin{aligned}\n",
    "&\\text{X ~ B(n, p)} \\cr\n",
    "&\\mathbb{E}(X) = \\sum_{k=0}^n x_k p(X=k) \\hspace{.2cm} \\text{where k are the possible outcomes} \\cr\n",
    "&\\text{We now recall that} \\hspace{.1cm} p(X=k) = \\sum_{k=0}^n {n \\choose k} p^{k}(1-p)^{n-k} \\cr\n",
    "&\\mathbb{E}(X) = \\sum_{k=0}^n k \\cdot {n \\choose k} p^{k}(1-p)^{n-k} \\cr \n",
    "&= \\sum_{k=0}^n n \\cdot {n-1 \\choose k-1} p^{k}(1-p)^{n-k} \\cr \n",
    "&= n \\cdot \\sum_{k=0}^n {n-1 \\choose k-1} p^{k}(1-p)^{n-k} \\cr \n",
    "&\\text{The next part is a bit tricky: we modify our index to run from 0 to n-1.} \\cr\n",
    "&\\text{To make sure that we get the same result, we add 1 to k, starting the index one earlier.} \\cr\n",
    "&= n \\cdot \\sum_{k=0}^{n-1} {n-1 \\choose k} p^{k+1}(1-p)^{n-k-1} \\cr \n",
    "&= n \\cdot p \\sum_{k=0}^{n-1} {n-1 \\choose k} p^{k}(1-p)^{n-k-1} \\hspace{.2cm} \\text{...factor out a p} \\cr \n",
    "&\\text{Finally, by the binomial theorem} \\cr \n",
    "& [p + (1-p)]^{n-1} = \\sum_{k=0}^{n-1} {n-1 \\choose k} p^{k}(1-p)^{n-k-1}  \\hspace{.2cm} \\text{...so...} \\cr\n",
    "&= n \\cdot p [p + (1-p)]^{n-1} \\hspace{.2cm} \\text{and since p + 1-p = 1} \\cr\n",
    "&= n \\cdot p \\hspace{.5cm} QED. \n",
    "\\end{aligned}"
   ]
  },
  {
   "cell_type": "code",
   "execution_count": 47,
   "id": "1147062a",
   "metadata": {},
   "outputs": [
    {
     "data": {
      "text/latex": [
       "\\begin{aligned}\n",
       "\\mathbb{V}(\\sum_{i=1}^n X_i) &= \\mathbb{V}(X_1 + X_2 + ... X_n) \\cr\n",
       "&= [(X_1 + X_2 + ... X_n)-(\\overline{X_1+X_2+X_n})]^2 \\cr\n",
       "&\\text{Now, by linearity of a mean when the sample size is the same for all variables...} \\cr \n",
       "&= [(X_1 + X_2 + ... X_n)-(\\overline{X_1}+\\overline{X_2}+...\\overline{X_n})]^2 \\cr\n",
       "&= [(X_1-\\overline{X_1})+(X_2 - \\overline{X_2}) +... (X_n -\\overline{X_n})]^2 \\cr\n",
       "&\\text{Picture this as a field, gridded by the deviations on length and width.} \\cr \n",
       "&\\text{Then, to take the area, simply multiply every column by all the rows (changing the metaphor a bit.)} \\cr \n",
       "&\\text{For the first X variable, this will look like the following; then we'll generalize.} \\cr \n",
       "&= [(X_1-\\overline{X_1})^2 + (X_1-\\overline{X_1})(X_2 - \\overline{X_2}) +... (X_1-\\overline{X_1})(X_n -\\overline{X_n})] \\cr\n",
       "&\\text{So, the pattern for one X is its variance plus its covariance with all other variables.} \\cr \n",
       "&\\text{Doing this will count each covariance twice (prove this to yourself by considering what happens\n",
       "    when we move to} \\hspace{.1cm} X_2). \\cr \n",
       "&\\text{Generalizing, we have...} \\cr \n",
       "& \\mathbb{V}(X_1 + X_2 + ... X_n) = \\sum_{i =1}^{n} \\sum_{j =1}^{n} \\mathbb{V}(X_i, X_j) \\cr\n",
       "&\\text{The pattern in simpler terms is ...} \\cr\n",
       "& \\mathbb{V}(X_1 + X_2 + ... X_n) = \\sum_{i =1}^{n} \\mathbb{V}(X_i) + 2 \\sum_{i \\leq i < j \\leq n}^{n} \\mathbb{V}(X_i, X_j) \\cr\n",
       "&\\text{That complicated index is a fancy way of saying \"start with i = 1. As long as j is greater than i, add up the covariances.} \\cr\n",
       "&\\text{Then, pass through more values of i once you get to i + 1 = j (when i = j, it's a variance and we already counted those).} \\cr \n",
       "&\\text{Each time, the number of j greater than i falls, which reflects the fact that we are moving along columns of the covariance matrix...} \\cr\n",
       "&\\text{...which I somewhat sneakily asked you to envision above with the \"field\" simile, without telling you}. \\cr\n",
       "&\\text{Logically, as we go along, the number of entries below the main diagonal falls, i.e. i and j get closer.} \\cr\n",
       "&\\text{We multiply by two because the upper triangle of the matrix is symmetrical to the lower half.} \\cr \n",
       "&\\text{Finally, and crucially, if the covariance is zero, e.g. if the Xs are IID random variables, as would be...} \\cr\n",
       "&\\text{...say, people in a sample, the variance of X is just the sum of the individual RVs.} \\cr\n",
       "\\end{aligned}\n"
      ],
      "text/plain": [
       "<IPython.core.display.Latex object>"
      ]
     },
     "metadata": {},
     "output_type": "display_data"
    }
   ],
   "source": [
    "%%latex\n",
    "\\begin{aligned}\n",
    "\\mathbb{V}(\\sum_{i=1}^n X_i) &= \\mathbb{V}(X_1 + X_2 + ... X_n) \\cr\n",
    "&= [(X_1 + X_2 + ... X_n)-(\\overline{X_1+X_2+X_n})]^2 \\cr\n",
    "&\\text{Now, by linearity of a mean when the sample size is the same for all variables...} \\cr \n",
    "&= [(X_1 + X_2 + ... X_n)-(\\overline{X_1}+\\overline{X_2}+...\\overline{X_n})]^2 \\cr\n",
    "&= [(X_1-\\overline{X_1})+(X_2 - \\overline{X_2}) +... (X_n -\\overline{X_n})]^2 \\cr\n",
    "&\\text{Picture this as a field, gridded by the deviations on length and width.} \\cr \n",
    "&\\text{Then, to take the area, simply multiply every column by all the rows (changing the metaphor a bit.)} \\cr \n",
    "&\\text{For the first X variable, this will look like the following; then we'll generalize.} \\cr \n",
    "&= [(X_1-\\overline{X_1})^2 + (X_1-\\overline{X_1})(X_2 - \\overline{X_2}) +... (X_1-\\overline{X_1})(X_n -\\overline{X_n})] \\cr\n",
    "&\\text{So, the pattern for one X is its variance plus its covariance with all other variables.} \\cr \n",
    "&\\text{Doing this will count each covariance twice (prove this to yourself by considering what happens\n",
    "    when we move to} \\hspace{.1cm} X_2). \\cr \n",
    "&\\text{Generalizing, we have...} \\cr \n",
    "& \\mathbb{V}(X_1 + X_2 + ... X_n) = \\sum_{i =1}^{n} \\sum_{j =1}^{n} \\mathbb{V}(X_i, X_j) \\cr\n",
    "&\\text{The pattern in simpler terms is ...} \\cr\n",
    "& \\mathbb{V}(X_1 + X_2 + ... X_n) = \\sum_{i =1}^{n} \\mathbb{V}(X_i) + 2 \\sum_{i \\leq i < j \\leq n}^{n} \\mathbb{V}(X_i, X_j) \\cr\n",
    "&\\text{That complicated index is a fancy way of saying \"start with i = 1. As long as j is greater than i, add up the covariances.} \\cr\n",
    "&\\text{Then, pass through more values of i once you get to i + 1 = j (when i = j, it's a variance and we already counted those).} \\cr \n",
    "&\\text{Each time, the number of j greater than i falls, which reflects the fact that we are moving along columns of the covariance matrix...} \\cr\n",
    "&\\text{...which I somewhat sneakily asked you to envision above with the \"field\" simile, without telling you}. \\cr\n",
    "&\\text{Logically, as we go along, the number of entries below the main diagonal falls, i.e. i and j get closer.} \\cr\n",
    "&\\text{We multiply by two because the upper triangle of the matrix is symmetrical to the lower half.} \\cr \n",
    "&\\text{Finally, and crucially, if the covariance is zero, e.g. if the Xs are IID random variables, as would be...} \\cr\n",
    "&\\text{...say, people in a sample, the variance of X is just the sum of the individual RVs.} \\cr\n",
    "\\end{aligned}"
   ]
  },
  {
   "cell_type": "code",
   "execution_count": 21,
   "id": "f60244a2",
   "metadata": {},
   "outputs": [
    {
     "data": {
      "text/latex": [
       "\\begin{aligned}\n",
       "\\mathbb{P}(X > 450) = \\sum_{k=451}^{1175} {1175 \\choose k} 0.37^{k}(0.63)^{n-k} \\cr\n",
       "\\end{aligned}\n"
      ],
      "text/plain": [
       "<IPython.core.display.Latex object>"
      ]
     },
     "metadata": {},
     "output_type": "display_data"
    }
   ],
   "source": [
    "%%latex\n",
    "\\begin{aligned}\n",
    "\\mathbb{P}(X > 450) = \\sum_{k=451}^{1175} {1175 \\choose k} 0.37^{k}(0.63)^{n-k} \\cr\n",
    "\\end{aligned}"
   ]
  },
  {
   "cell_type": "code",
   "execution_count": 1,
   "id": "e8d47e3e",
   "metadata": {},
   "outputs": [
    {
     "data": {
      "text/latex": [
       "\\begin{aligned}\n",
       "& \\mathbb{P}(X = k) = {n \\choose k} \\theta^{k}(1-\\theta)^{n-k}, \\hspace{.1cm} n = \\text{sample size}; \\theta = \n",
       "    \\text{probability of success on one trial}; k = \\text{number of successes} \\cr\n",
       "& \\mathbb{P}(X = k) = \n",
       "    \\underbrace{{n \\choose k}}_\\text{number of distinct groups of size k from set of size n} \\cdot\n",
       "    \\overbrace{\\theta^{k}}^\\text{probability of k successes} \\cdot\n",
       "    \\underbrace{(1-\\theta)^{n-k}}^\\text{probability of n-k failures}\n",
       "\\end{aligned}\n"
      ],
      "text/plain": [
       "<IPython.core.display.Latex object>"
      ]
     },
     "metadata": {},
     "output_type": "display_data"
    }
   ],
   "source": [
    "%%latex\n",
    "\\begin{aligned}\n",
    "& \\mathbb{P}(X = k) = {n \\choose k} \\theta^{k}(1-\\theta)^{n-k}, \\hspace{.1cm} n = \\text{sample size}; \\theta = \n",
    "    \\text{probability of success on one trial}; k = \\text{number of successes} \\cr\n",
    "& \\mathbb{P}(X = k) = \n",
    "    \\underbrace{{n \\choose k}}_\\text{number of distinct groups of size k from set of size n} \\cdot\n",
    "    \\overbrace{\\theta^{k}}^\\text{probability of k successes} \\cdot\n",
    "    \\underbrace{(1-\\theta)^{n-k}}^\\text{probability of n-k failures}\n",
    "\\end{aligned}"
   ]
  },
  {
   "cell_type": "code",
   "execution_count": null,
   "id": "105a7404",
   "metadata": {},
   "outputs": [],
   "source": []
  }
 ],
 "metadata": {
  "kernelspec": {
   "display_name": "Python 3 (ipykernel)",
   "language": "python",
   "name": "python3"
  },
  "language_info": {
   "codemirror_mode": {
    "name": "ipython",
    "version": 3
   },
   "file_extension": ".py",
   "mimetype": "text/x-python",
   "name": "python",
   "nbconvert_exporter": "python",
   "pygments_lexer": "ipython3",
   "version": "3.9.12"
  }
 },
 "nbformat": 4,
 "nbformat_minor": 5
}
